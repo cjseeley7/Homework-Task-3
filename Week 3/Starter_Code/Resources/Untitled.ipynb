{
 "cells": [
  {
   "cell_type": "code",
   "execution_count": null,
   "id": "f129aa86-7fc9-469f-a95f-305adf4f5fc0",
   "metadata": {},
   "outputs": [],
   "source": [
    "# Calculate the daily standard deviations of all portfolios\n",
    "whale_std = np.random.normal(scale=0.5, size=10000)\n",
    "algo_std = np.random.normal(scale=1.0, size=10000)\n",
    "tsx_std = np.random.normal(scale=1.5, size=10000)\n",
    "\n",
    "combined_std = pd.DataFrame({\n",
    "    \"whale\": whale_std,\n",
    "    \"algo\": algo_std,\n",
    "    \"tsx60\": tsx_std\n",
    "})\n",
    "\n",
    "combined_std.plot.hist(stacked=True, bins=100)"
   ]
  },
  {
   "cell_type": "code",
   "execution_count": null,
   "id": "d9935fa8-5c51-4a47-849c-e84dfe7a7751",
   "metadata": {},
   "outputs": [],
   "source": [
    "# Calculate the daily standard deviations of all portfolios\n",
    "\n",
    "soros_std = np.random.normal(scale=0.5, size=10000)\n",
    "paulson_std = np.random.normal(scale=0.5, size=10000)\n",
    "tiger_std = np.random.normal(scale=0.5, size=10000)\n",
    "berkshire_std = np.random.normal(scale=0.5, size=10000)\n",
    "algo1_std = np.random.normal(scale=1.0, size=10000)\n",
    "algo2_std = np.random.normal(scale=1.0, size=10000)\n",
    "tsx_std = np.random.normal(scale=1.5, size=10000)\n",
    "\n",
    "combined_std = pd.DataFrame({\n",
    "    \"Soros Fund Management\": soros_std,\n",
    "    \"Paulson & Co\": paulson_std,\n",
    "    \"Tiger Global Management\": tiger_std\n",
    "    \"Berkshire Hathaway\": berkshire_std\n",
    "    \"Algo 1\": algo1_std\n",
    "    \"Algo 2\": algo2_std\n",
    "    \"TSX 60\": tsx_std\n",
    "})\n",
    "\n",
    "combined_std.plot.hist(stacked=True, bins=100)"
   ]
  },
  {
   "cell_type": "code",
   "execution_count": null,
   "id": "3dfa2156-31f6-4aaa-b97c-8cdfeab7ddce",
   "metadata": {},
   "outputs": [],
   "source": [
    "# Calculate cumulative returns of all portfolios\n",
    "cumulative_returns = (1 + combined_daily_returns).cumprod() - 1\n",
    "cumulative_returns.dropna(inplace=True)\n",
    "cumulative_returns.head()\n",
    "\n",
    "# Plot cumulative returns\n",
    "# cumulative_returns.plot(figsize=(15,15), title=\"Cumulative Returns of all portfolios\")"
   ]
  },
  {
   "cell_type": "code",
   "execution_count": null,
   "id": "7fde4815-93f0-49d6-b91a-c8ce6da1b748",
   "metadata": {},
   "outputs": [],
   "source": [
    "# Plot daily returns of all portfolios\n",
    "combined_daily_returns = joined_data_rows.pct_change()\n",
    "combined_daily_returns.dropna(inplace=True)\n",
    "combined_daily_returns.head()"
   ]
  }
 ],
 "metadata": {
  "kernelspec": {
   "display_name": "Python 3 (ipykernel)",
   "language": "python",
   "name": "python3"
  },
  "language_info": {
   "codemirror_mode": {
    "name": "ipython",
    "version": 3
   },
   "file_extension": ".py",
   "mimetype": "text/x-python",
   "name": "python",
   "nbconvert_exporter": "python",
   "pygments_lexer": "ipython3",
   "version": "3.8.8"
  }
 },
 "nbformat": 4,
 "nbformat_minor": 5
}
